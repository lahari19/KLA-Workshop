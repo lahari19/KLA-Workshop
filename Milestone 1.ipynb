{
 "cells": [
  {
   "cell_type": "code",
   "execution_count": 82,
   "id": "7dcecc17",
   "metadata": {},
   "outputs": [
    {
     "name": "stdout",
     "output_type": "stream",
     "text": [
      "['header 600 \\n', 'bgnlib 1/19/2023 19:25:24 1/19/2023 19:25:24 \\n', 'libname egdslib\\n', 'units 0.0001 1e-10 \\n', '\\n', 'bgnstr 1/19/2023 19:25:24 1/19/2023 19:25:24 \\n', 'strname top\\n', '\\n', 'boundary\\n', 'layer 1\\n', 'datatype 0\\n', 'xy  5  -1490 2850  -1490 6200  -260 6200  -260 2850  -1490 2850\\n', 'endel\\n', 'boundary\\n', 'layer 1\\n', 'datatype 0\\n', 'xy  5  -1270 -1450  -1270 2220  -180 2220  -180 -1450  -1270 -1450\\n', 'endel\\n', 'boundary\\n', 'layer 1\\n', 'datatype 0\\n', 'xy  5  1290 3610  1290 6010  2460 6010  2460 3610  1290 3610\\n', 'endel\\n', 'boundary\\n', 'layer 1\\n', 'datatype 0\\n', 'xy  5  1430 240  1430 2830  2850 2830  2850 240  1430 240\\n', 'endel\\n', 'boundary\\n', 'layer 1\\n', 'datatype 0\\n', 'xy  5  3850 2560  3850 4640  4940 4640  4940 2560  3850 2560\\n', 'endel\\n', 'endstr\\n', 'endlib\\n']\n"
     ]
    }
   ],
   "source": [
    "file1=open(r\"D:\\Format_Source.txt\",\"r\")\n",
    "data=file1.readlines()\n",
    "print(data)"
   ]
  },
  {
   "cell_type": "code",
   "execution_count": 77,
   "id": "7f7a573f",
   "metadata": {},
   "outputs": [],
   "source": [
    "#writting the header to the another file\n",
    "with open(r\"D:\\Format_Source.txt\",\"r\") as i:\n",
    "    with open(r\"D:\\output.txt\",\"w\") as o:\n",
    "        data=i.readlines()\n",
    "        for t in data[:8]:\n",
    "            o.writelines(t)\n",
    "        \n",
    "        \n",
    "        "
   ]
  },
  {
   "cell_type": "code",
   "execution_count": 78,
   "id": "11a25eab",
   "metadata": {},
   "outputs": [
    {
     "name": "stdout",
     "output_type": "stream",
     "text": [
      "['xy  5  -1490 2850  -1490 6200  -260 6200  -260 2850  -1490 2850\\n', 'xy  5  -1270 -1450  -1270 2220  -180 2220  -180 -1450  -1270 -1450\\n', 'xy  5  1290 3610  1290 6010  2460 6010  2460 3610  1290 3610\\n', 'xy  5  1430 240  1430 2830  2850 2830  2850 240  1430 240\\n', 'xy  5  3850 2560  3850 4640  4940 4640  4940 2560  3850 2560\\n']\n"
     ]
    }
   ],
   "source": [
    "#storing the polygon values in th list\n",
    "l=[]\n",
    "j=0\n",
    "with open(r\"D:\\Format_Source.txt\",\"r\") as i:\n",
    "    with open(r\"D:\\output.txt\",\"a\") as o:\n",
    "        data=i.readlines()\n",
    "        for t in data:\n",
    "            j+=1\n",
    "            if(t[0]==\"x\"):\n",
    "                l.append(data[j-1])\n",
    "                c=c+1\n",
    "        print(l)        "
   ]
  },
  {
   "cell_type": "code",
   "execution_count": 79,
   "id": "5003b080",
   "metadata": {},
   "outputs": [],
   "source": [
    "#Writting the polygon formate to the another file\n",
    "with open(r\"D:\\Format_Source.txt\",\"r\") as i:\n",
    "    with open(r\"D:\\output.txt\",\"a\") as o:\n",
    "        data=i.readlines()\n",
    "        for t in data[8:11]:\n",
    "            o.writelines(t)\n",
    "        o.write(l[0])\n",
    "        for t in data[12]:\n",
    "            o.writelines(t)"
   ]
  },
  {
   "cell_type": "code",
   "execution_count": 80,
   "id": "ac745f01",
   "metadata": {},
   "outputs": [],
   "source": [
    "#Writting the polygon formate to the another file\n",
    "with open(r\"D:\\Format_Source.txt\",\"r\") as i:\n",
    "    with open(r\"D:\\output.txt\",\"a\") as o:\n",
    "        data=i.readlines()\n",
    "        for t in data[13:16]:\n",
    "            o.writelines(t)\n",
    "        o.write(l[1])\n",
    "        for t in data[17]:\n",
    "            o.writelines(t)"
   ]
  },
  {
   "cell_type": "code",
   "execution_count": 81,
   "id": "74245990",
   "metadata": {},
   "outputs": [],
   "source": [
    "#writting footer to the another file\n",
    "with open(r\"D:\\Format_Source.txt\",\"r\") as i:\n",
    "    with open(r\"D:\\output.txt\",\"a\") as o:\n",
    "        data=i.readlines()\n",
    "        for t in data[-2:]:\n",
    "            o.writelines(t)\n",
    "        "
   ]
  }
 ],
 "metadata": {
  "kernelspec": {
   "display_name": "Python 3 (ipykernel)",
   "language": "python",
   "name": "python3"
  },
  "language_info": {
   "codemirror_mode": {
    "name": "ipython",
    "version": 3
   },
   "file_extension": ".py",
   "mimetype": "text/x-python",
   "name": "python",
   "nbconvert_exporter": "python",
   "pygments_lexer": "ipython3",
   "version": "3.9.9"
  }
 },
 "nbformat": 4,
 "nbformat_minor": 5
}
