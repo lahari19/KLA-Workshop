{
 "cells": [
  {
   "cell_type": "code",
   "execution_count": 177,
   "id": "33e78789",
   "metadata": {},
   "outputs": [
    {
     "name": "stdout",
     "output_type": "stream",
     "text": [
      "['header 600 \\n', 'bgnlib 1/19/2023 19:25:24 1/19/2023 19:25:24 \\n', 'libname egdslib\\n', 'units 0.0001 1e-10 \\n', '\\n', 'bgnstr 1/19/2023 19:25:24 1/19/2023 19:25:24 \\n', 'strname top\\n', '\\n', 'boundary\\n', 'layer 1\\n', 'datatype 0\\n', 'xy  5  -1490 2850  -1490 6200  -260 6200  -260 2850  -1490 2850\\n', 'endel\\n', 'boundary\\n', 'layer 1\\n', 'datatype 0\\n', 'xy  5  -1270 -1450  -1270 2220  -180 2220  -180 -1450  -1270 -1450\\n', 'endel\\n', 'boundary\\n', 'layer 1\\n', 'datatype 0\\n', 'xy  5  1290 3610  1290 6010  2460 6010  2460 3610  1290 3610\\n', 'endel\\n', 'boundary\\n', 'layer 1\\n', 'datatype 0\\n', 'xy  5  1430 240  1430 2830  2850 2830  2850 240  1430 240\\n', 'endel\\n', 'boundary\\n', 'layer 1\\n', 'datatype 0\\n', 'xy  5  3850 2560  3850 4640  4940 4640  4940 2560  3850 2560\\n', 'endel\\n', 'endstr\\n', 'endlib\\n']\n"
     ]
    }
   ],
   "source": [
    "file1=open(r\"D:\\Format_Source.txt\",\"r\")\n",
    "data=file1.readlines()\n",
    "print(data)"
   ]
  },
  {
   "cell_type": "code",
   "execution_count": 178,
   "id": "d46ed63b",
   "metadata": {},
   "outputs": [],
   "source": [
    "#writting the header to the another file\n",
    "with open(r\"D:\\Format_Source.txt\",\"r\") as i:\n",
    "    with open(r\"D:\\output.txt\",\"a\") as o:\n",
    "        data=i.readlines()\n",
    "        for t in data[:8]:\n",
    "            o.writelines(t)\n",
    "        \n",
    "        \n",
    "        "
   ]
  },
  {
   "cell_type": "code",
   "execution_count": 179,
   "id": "274bcea2",
   "metadata": {},
   "outputs": [
    {
     "name": "stdout",
     "output_type": "stream",
     "text": [
      "['xy  5  -1490 2850  -1490 6200  -260 6200  -260 2850  -1490 2850\\n', 'xy  5  -1270 -1450  -1270 2220  -180 2220  -180 -1450  -1270 -1450\\n', 'xy  5  1290 3610  1290 6010  2460 6010  2460 3610  1290 3610\\n', 'xy  5  1430 240  1430 2830  2850 2830  2850 240  1430 240\\n', 'xy  5  3850 2560  3850 4640  4940 4640  4940 2560  3850 2560\\n']\n"
     ]
    }
   ],
   "source": [
    "#storing the polygon values in th list\n",
    "l=[]\n",
    "j=0\n",
    "with open(r\"D:\\Format_Source.txt\",\"r\") as i:\n",
    "    with open(r\"D:\\output.txt\",\"a\") as o:\n",
    "        data=i.readlines()\n",
    "        for t in data:\n",
    "            j+=1\n",
    "            if(t[0]==\"x\"):\n",
    "                l.append(data[j-1])\n",
    "                \n",
    "                c=c+1\n",
    "        print(l)        "
   ]
  },
  {
   "cell_type": "code",
   "execution_count": 180,
   "id": "8d44ef9a",
   "metadata": {},
   "outputs": [],
   "source": [
    "k=[]\n",
    "k=l[0]"
   ]
  },
  {
   "cell_type": "code",
   "execution_count": 181,
   "id": "dd6422a8",
   "metadata": {
    "scrolled": true
   },
   "outputs": [
    {
     "name": "stdout",
     "output_type": "stream",
     "text": [
      "xy  5  -1490 2850  -1490 6200  -260 6200  -260 2850  -1490 2850\n",
      "\n"
     ]
    }
   ],
   "source": [
    "print(k)"
   ]
  },
  {
   "cell_type": "code",
   "execution_count": 182,
   "id": "d0f0b897",
   "metadata": {},
   "outputs": [
    {
     "name": "stdout",
     "output_type": "stream",
     "text": [
      "['xy', '', '5', '', '-1490', '2850', '', '-1490', '6200', '', '-260', '6200', '', '-260', '2850', '', '-1490', '2850\\n']\n"
     ]
    }
   ],
   "source": [
    "s1= k.split(' ')\n",
    "print(s1)"
   ]
  },
  {
   "cell_type": "code",
   "execution_count": 183,
   "id": "a20d1f4b",
   "metadata": {},
   "outputs": [],
   "source": [
    "v=[s1[4],s1[7],s1[10],s1[13],s1[16]]"
   ]
  },
  {
   "cell_type": "code",
   "execution_count": 184,
   "id": "83e858b9",
   "metadata": {},
   "outputs": [
    {
     "name": "stdout",
     "output_type": "stream",
     "text": [
      "{0: '-1490', 1: '-1490', 2: '-260', 3: '-260', 4: '-1490'}\n"
     ]
    }
   ],
   "source": [
    "#X cordinate directiory for all the vertices\n",
    "X=dict(enumerate(v))\n",
    "print(X)"
   ]
  },
  {
   "cell_type": "code",
   "execution_count": 185,
   "id": "fa34ae26",
   "metadata": {},
   "outputs": [
    {
     "data": {
      "text/plain": [
       "'-1490'"
      ]
     },
     "execution_count": 185,
     "metadata": {},
     "output_type": "execute_result"
    }
   ],
   "source": [
    "X[1]"
   ]
  },
  {
   "cell_type": "code",
   "execution_count": 186,
   "id": "5a8a6adb",
   "metadata": {},
   "outputs": [],
   "source": [
    "v1=[s1[5],s1[8],s1[11],s1[14],s1[17]]"
   ]
  },
  {
   "cell_type": "code",
   "execution_count": 187,
   "id": "eed49720",
   "metadata": {},
   "outputs": [
    {
     "name": "stdout",
     "output_type": "stream",
     "text": [
      "{0: '2850', 1: '6200', 2: '6200', 3: '2850', 4: '2850\\n'}\n"
     ]
    }
   ],
   "source": [
    "#Y cordinate directiory for all the vertices\n",
    "Y=dict(enumerate(v1))\n",
    "print(Y)"
   ]
  },
  {
   "cell_type": "code",
   "execution_count": 188,
   "id": "b8543b49",
   "metadata": {},
   "outputs": [],
   "source": [
    "#Writting the polygon formate to the another file\n",
    "with open(r\"D:\\Format_Source.txt\",\"r\") as i:\n",
    "    with open(r\"D:\\output.txt\",\"a\") as o:\n",
    "        data=i.readlines()\n",
    "        for t in data[8:11]:\n",
    "            o.writelines(t)\n",
    "        o.write(l[0])\n",
    "        for t in data[12]:\n",
    "            o.writelines(t)"
   ]
  },
  {
   "cell_type": "code",
   "execution_count": 189,
   "id": "a7344b2e",
   "metadata": {},
   "outputs": [],
   "source": [
    "# Writting the polygon formate to the another file\n",
    "# with open(r\"D:\\Format_Source.txt\",\"r\") as i:\n",
    "#     with open(r\"D:\\output.txt\",\"a\") as o:\n",
    "#         data=i.readlines()\n",
    "#         for t in data[8:11]:\n",
    "#             o.writelines(t)\n",
    "#         o.write(\"xy\")\n",
    "#         for t in data[12]:\n",
    "#             o.writelines(t)"
   ]
  },
  {
   "cell_type": "code",
   "execution_count": 190,
   "id": "c3876380",
   "metadata": {},
   "outputs": [],
   "source": [
    "#Writting the polygon formate to the another file\n",
    "with open(r\"D:\\Format_Source.txt\",\"r\") as i:\n",
    "    with open(r\"D:\\output.txt\",\"a\") as o:\n",
    "        data=i.readlines()\n",
    "        for t in data[13:16]:\n",
    "            o.writelines(t)\n",
    "        o.write(l[1])\n",
    "        for t in data[17]:\n",
    "            o.writelines(t)"
   ]
  },
  {
   "cell_type": "code",
   "execution_count": 191,
   "id": "ea75f859",
   "metadata": {},
   "outputs": [],
   "source": [
    "#writting footer to the another file\n",
    "with open(r\"D:\\Format_Source.txt\",\"r\") as i:\n",
    "    with open(r\"D:\\output.txt\",\"a\") as o:\n",
    "        data=i.readlines()\n",
    "        for t in data[-2:]:\n",
    "            o.writelines(t)\n",
    "        "
   ]
  },
  {
   "cell_type": "code",
   "execution_count": null,
   "id": "53e6e342",
   "metadata": {},
   "outputs": [],
   "source": []
  }
 ],
 "metadata": {
  "kernelspec": {
   "display_name": "Python 3 (ipykernel)",
   "language": "python",
   "name": "python3"
  },
  "language_info": {
   "codemirror_mode": {
    "name": "ipython",
    "version": 3
   },
   "file_extension": ".py",
   "mimetype": "text/x-python",
   "name": "python",
   "nbconvert_exporter": "python",
   "pygments_lexer": "ipython3",
   "version": "3.9.9"
  }
 },
 "nbformat": 4,
 "nbformat_minor": 5
}
